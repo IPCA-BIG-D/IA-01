{
 "cells": [
  {
   "cell_type": "markdown",
   "metadata": {},
   "source": [
    "<h1> Introdução </h1>\n",
    "\n",
    "Este código aborda um problema de agendamento de admissão de pacientes em camas de hospital, considerando as restrições relacionadas com o oxigênio, a telemetria e a disponibilidade de camas em quartos específicos. O objetivo é encontrar uma atribuição de camas para os pacientes ao longo dos seus períodos de internamento, respeitando as restrições mencionadas.\n",
    "\n",
    "Este trabalho foi desenvolvido por:\n",
    "\n",
    "* a13725 – Alexandre Manuel Oliveira de Castro Pereira\n",
    "* a24003 – Daniel da Silva Pires\n",
    "* a19631 – Tiago José Gomes Morais\n"
   ]
  },
  {
   "cell_type": "markdown",
   "metadata": {},
   "source": [
    "<h2> Formulação do problema </h2>\n",
    "\n",
    "**O objetivo é encontrar uma solução para o problema de agendamento de admissão dos pacientes em camas de hospital, levando em consideração as seguintes restrições:**\n",
    "\n",
    "* Dois pacientes não podem ocupar a mesma cama no mesmo dia.\n",
    "\n",
    "* Pacientes que precisam de oxigênio devem ser colocados em camas que pertencem a quartos com oxigênio.\n",
    "\n",
    "* Pacientes que precisam de telemetria devem ser colocados em camas que pertencem a quartos com telemetria."
   ]
  },
  {
   "cell_type": "markdown",
   "metadata": {},
   "source": [
    "<h2> Plano e Design de um Agente Adequado </h2>\n",
    "\n",
    "**Agente (PEAS):** Sistema de Agendamento de Admissão de Pacientes\n",
    "\n",
    "**Medida de Desempenho:** eficiência na colocação de pacientes nas camas, maximizando a utilização dos recursos, minimizando conflitos de restrições médicas e temporais, e otimizando a satisfação do paciente.\n",
    "\n",
    "\n",
    "**Ambiente:**\n",
    "O ambiente é o hospital, com uma série de camas, cada uma associada a um quarto com condições específicas de oxigênio e telemetria.\n",
    "\n",
    "* O ambiente é parcialmente observável, pois o agente não tem conhecimento completo sobre o estado interno do hospital, como a ocupação de camas futuras.\n",
    "\n",
    "* O ambiente é sequencial, pois as ações do agente impactam as futuras decisões. Cada colocação é um episódio.\n",
    "\n",
    "* O ambiente é dinâmico devido às admissões e altas dos pacientes.\n",
    "\n",
    "* O ambiente é discreto, com a colocação de pacientes sendo uma ação discreta num conjunto finito de camas e pacientes.\n",
    "\n",
    "* O ambiente é determinístico, pois as ações do agente determinam diretamente as consequências no ambiente.\n",
    "\n",
    "**Sensor:** Os sensores são representados pelos dados fornecidos ao agente, como as condições médicas dos pacientes, a disponibilidade das camas e as restrições temporais.\n",
    "\n",
    "**Atuador:** O atuador é representado pela parte do código que implementa a colocação de pacientes nas camas.\n"
   ]
  },
  {
   "cell_type": "markdown",
   "metadata": {},
   "source": [
    "<h3> Formulação do Problema como um Problema de Procura: </h3>\n",
    "\n",
    "O problema é formulado como um problema de procura para encontrar uma atribuição válida de camas para os pacientes ao longo dos seus períodos de internamento, respeitando as restrições. Cada paciente é associado a uma variável que representa a cama atribuída durante os dias de internamento."
   ]
  },
  {
   "cell_type": "markdown",
   "metadata": {},
   "source": [
    "<h3> Heurísticas Aplicadas: </h3>\n",
    "\n",
    "* O código utiliza restrições para garantir que dois pacientes não ocupem a mesma cama no mesmo dia, considerando também as condições de oxigênio e telemetria.\n",
    "\n",
    "* Foram criadas funções de teste (test_oxygen e test_telemetry) para verificar se as condições de oxigênio e telemetria são atendidas para cada cama atribuída."
   ]
  },
  {
   "cell_type": "markdown",
   "metadata": {},
   "source": [
    "<h2> Agente em Execução </h2>\n",
    "\n",
    "**Solução para um ou mais Estados Iniciais:**\n",
    "\n",
    "A execução do agente no sistema de agendamento de admissão de pacientes resulta numa colocação de camas para os pacientes, otimizando as condições médicas e temporais respeitando as restrições de sobreposição de datas, necessidade de oxigênio e telemetria.\n",
    "\n",
    "**Exemplo de Solução:**"
   ]
  },
  {
   "cell_type": "code",
   "execution_count": null,
   "metadata": {},
   "outputs": [],
   "source": [
    "patient_1 - Cama 3 durante os dias {0}\n",
    "patient_10 - Cama 6 durante os dias {3, 4, 5, 6, 7, 8, 9, 10}\n",
    "patient_11 - Cama 8 durante os dias {4, 5, 6, 7, 8, 9, 10}\n",
    "patient_12 - Cama 5 durante os dias {5, 6, 7, 8, 9, 10, 11}\n",
    "patient_13 - Cama 7 durante os dias {5, 6, 7, 8, 9, 10, 11, 12}\n",
    "patient_14 - Cama 3 durante os dias {7, 8, 9, 10, 11, 12, 13}\n",
    "patient_15 - Cama 4 durante os dias {8, 9}\n",
    "patient_16 - Cama 2 durante os dias {9, 10, 11, 12, 13, 14, 15}\n",
    "patient_17 - Cama 4 durante os dias {10, 11, 12, 13, 14, 15, 16, 17}\n",
    "patient_18 - Cama 1 durante os dias {10, 11, 12, 13, 14}\n",
    "patient_19 - Cama 6 durante os dias {11, 12, 13, 14, 15, 16, 17}\n",
    "patient_2 - Cama 4 durante os dias {0, 1, 2, 3, 4, 5}\n",
    "patient_20 - Cama 8 durante os dias {12, 13, 14, 15, 16, 17, 18, 19}\n",
    "patient_3 - Cama 6 durante os dias {0, 1}\n",
    "patient_4 - Cama 7 durante os dias {0, 1, 2, 3, 4}\n",
    "patient_5 - Cama 8 durante os dias {0, 1, 2, 3}\n",
    "patient_6 - Cama 5 durante os dias {0, 1}\n",
    "patient_7 - Cama 2 durante os dias {1, 2, 3, 4, 5, 6, 7}\n",
    "patient_8 - Cama 5 durante os dias {2, 3}\n",
    "patient_9 - Cama 3 durante os dias {2, 3, 4, 5}"
   ]
  },
  {
   "cell_type": "markdown",
   "metadata": {},
   "source": [
    "<h3> Conclusão </h3>\n",
    "\n",
    "Ao longo do projeto deparamo-nos com algumas dificuldades quanto à abordagem do problema. Começamos com uma abordagem quanto ás variaveis que iríamos utilizar, que mais tarde vimos não ser a melhor abordagem e por isso estarmos a ter dificuldades na continuação da solução pretendida. \n",
    "Superados estes desafios, o projeto avançou a um bom ritmo e conseguimos concluir a solução a que nos proposemos.\n",
    "\n",
    "Apesar de nem todos os elementos do grupo estarem tão à vontade com a tecnologia utilizada, conseguimos agilizar entre nós de modo a que o projeto avançasse a bom ritmo e nenhum elemento do grupo ficou à parte quanto ao funcionamento e lógica por trás da solução implementada.\n",
    "\n",
    "Em suma, apesar das dificuldades, conseguimos alcançar a solução que nos proposemos realizar e estamos satisfeitos com os resultados do nosso esforço. Cremos que a solução alcançada, corresponde ao objetivo do problema proposto e com um bom desempenho no que toca ao tempo para adquirir uma solução. Sabemos que existe margem para melhoria, nomeadamente, a implementação de mais restrições ao problema e talvez a atribuição de um peso nas soluções por forma a apresentar a solução ótima ao invés da primeira solução alcançada."
   ]
  },
  {
   "cell_type": "markdown",
   "metadata": {},
   "source": [
    "\n",
    "Importar as bibliotecas necessárias"
   ]
  },
  {
   "cell_type": "code",
   "execution_count": null,
   "metadata": {},
   "outputs": [],
   "source": [
    "import ast\n",
    "from constraint import Problem, AllDifferentConstraint\n",
    "from dataclasses import dataclass\n",
    "from enum import Enum\n",
    "from itertools import combinations"
   ]
  },
  {
   "cell_type": "markdown",
   "metadata": {},
   "source": [
    "Criação das classes"
   ]
  },
  {
   "cell_type": "code",
   "execution_count": null,
   "metadata": {},
   "outputs": [],
   "source": [
    "@dataclass\n",
    "class Room:\n",
    "    id: int\n",
    "    oxygen: bool\n",
    "    telemetry: bool\n",
    "\n",
    "\n",
    "@dataclass\n",
    "class Bed:\n",
    "    id: int\n",
    "    room: Room\n",
    "\n",
    "    def __repr__(self) -> str:\n",
    "        return str(self.id)\n",
    "\n",
    "\n",
    "class Gender(Enum):\n",
    "    MALE = (\"MALE\",)\n",
    "    FEMALE = (\"FEMALE\",)\n",
    "    OTHER = \"OTHER\"\n",
    "\n",
    "\n",
    "@dataclass\n",
    "class Patient:\n",
    "    id: int\n",
    "    name: str\n",
    "    age: int\n",
    "    gender: Gender\n",
    "    admission_date: int\n",
    "    discharge_date: int\n",
    "    oxygen: bool\n",
    "    telemetry: bool"
   ]
  },
  {
   "cell_type": "markdown",
   "metadata": {},
   "source": [
    "Setup dos dados"
   ]
  },
  {
   "cell_type": "code",
   "execution_count": null,
   "metadata": {},
   "outputs": [],
   "source": [
    "problem = Problem()\n",
    "\n",
    "rooms = [\n",
    "    Room(1, True, False),\n",
    "    Room(2, True, True),\n",
    "    Room(3, True, False),\n",
    "    Room(3, True, True),\n",
    "]\n",
    "\n",
    "beds = [\n",
    "    Bed(1, rooms[0]),\n",
    "    Bed(2, rooms[0]),\n",
    "    Bed(3, rooms[1]),\n",
    "    Bed(4, rooms[1]),\n",
    "    Bed(5, rooms[2]),\n",
    "    Bed(6, rooms[2]),\n",
    "    Bed(7, rooms[3]),\n",
    "    Bed(8, rooms[3]),\n",
    "]\n",
    "\n",
    "patients = [\n",
    "    Patient(1, \"Patient1\", 98, Gender.MALE, 0, 0, False, False),\n",
    "    Patient(2, \"Patient2\", 82, Gender.MALE, 0, 5, True, True),\n",
    "    Patient(3, \"Patient3\", 43, Gender.MALE, 0, 1, False, False),\n",
    "    Patient(4, \"Patient4\", 88, Gender.MALE, 0, 4, False, False),\n",
    "    Patient(5, \"Patient5\", 20, Gender.FEMALE, 0, 3, False, True),\n",
    "    Patient(6, \"Patient6\", 65, Gender.FEMALE, 0, 1, False, False),\n",
    "    Patient(7, \"Patient7\", 33, Gender.FEMALE, 1, 7, True, False),\n",
    "    Patient(8, \"Patient8\", 86, Gender.MALE, 2, 3, False, False),\n",
    "    Patient(9, \"Patient9\", 22, Gender.FEMALE, 2, 5, False, True),\n",
    "    Patient(10, \"Patient10\", 70, Gender.FEMALE, 3, 10, True, False),\n",
    "    Patient(11, \"Patient11\", 42, Gender.MALE, 4, 10, True, True),\n",
    "    Patient(12, \"Patient12\", 3, Gender.FEMALE, 5, 11, False, False),\n",
    "    Patient(13, \"Patient13\", 14, Gender.FEMALE, 5, 12, False, True),\n",
    "    Patient(14, \"Patient14\", 78, Gender.MALE, 7, 13, False, False),\n",
    "    Patient(15, \"Patient15\", 29, Gender.FEMALE, 8, 9, True, False),\n",
    "    Patient(16, \"Patient16\", 61, Gender.FEMALE, 9, 15, False, False),\n",
    "    Patient(17, \"Patient17\", 56, Gender.FEMALE, 10, 17, False, True),\n",
    "    Patient(18, \"Patient18\", 106, Gender.FEMALE, 10, 14, True, False),\n",
    "    Patient(19, \"Patient19\", 4, Gender.MALE, 11, 17, True, False),\n",
    "    Patient(20, \"Patient20\", 52, Gender.FEMALE, 12, 19, True, True),\n",
    "]"
   ]
  },
  {
   "cell_type": "markdown",
   "metadata": {},
   "source": [
    "Adicionar as variáveis com o seu domínio de dias"
   ]
  },
  {
   "cell_type": "code",
   "execution_count": null,
   "metadata": {},
   "outputs": [],
   "source": [
    "for patient in patients:\n",
    "        days_for_patient = set(\n",
    "            range(patient.admission_date, patient.discharge_date + 1)\n",
    "        )\n",
    "        domain = [f\"bed_{bed}_days_{days_for_patient}\" for bed in beds]\n",
    "        problem.addVariable(f\"patient_{patient.id}\", domain)"
   ]
  },
  {
   "cell_type": "markdown",
   "metadata": {},
   "source": [
    "Avalia para cada paciente se o número de dias (set) interceta com outro paciente,\n",
    "Se sim, a condição é falsa excepto se a cama for diferente"
   ]
  },
  {
   "cell_type": "code",
   "execution_count": null,
   "metadata": {},
   "outputs": [],
   "source": [
    "for variable, domain in problem._variables.items():\n",
    "    patient = variable.split(\"_\")[1]\n",
    "    patients_except_var = [p for p in problem._variables if p != variable]\n",
    "\n",
    "    def test(a, b):\n",
    "        bed_a = a.split(\"_\")[1]\n",
    "        bed_b = b.split(\"_\")[1]\n",
    "        set_a = ast.literal_eval(a.split(\"_\")[3])\n",
    "        set_b = ast.literal_eval(b.split(\"_\")[3])\n",
    "        return len(set_a & set_b) == 0 or bed_a != bed_b\n",
    "\n",
    "    for patient in patients_except_var:\n",
    "        problem.addConstraint(test, [variable, patient])"
   ]
  },
  {
   "cell_type": "markdown",
   "metadata": {},
   "source": [
    "Adicionar constraint de oxigênio e telemetria"
   ]
  },
  {
   "cell_type": "code",
   "execution_count": null,
   "metadata": {},
   "outputs": [],
   "source": [
    "for variable, domain in problem._variables.items():\n",
    "    patient_id = int(variable.split(\"_\")[1])\n",
    "    patient = find_patients(patients, patient_id)\n",
    "\n",
    "    if patient.oxygen == True:\n",
    "\n",
    "        def test_oxygen(a):\n",
    "            bed_id = int(a.split(\"_\")[1])\n",
    "            bed = get_bed_by_id(beds, bed_id)\n",
    "            return bed.room.oxygen\n",
    "\n",
    "        problem.addConstraint(test_oxygen, [variable])\n",
    "\n",
    "    if patient.telemetry == True:\n",
    "\n",
    "        def test_telemetry(a):\n",
    "            bed_id = int(a.split(\"_\")[1])\n",
    "            bed = get_bed_by_id(beds, bed_id)\n",
    "            return bed.room.telemetry\n",
    "\n",
    "        problem.addConstraint(test_telemetry, [variable])"
   ]
  },
  {
   "cell_type": "markdown",
   "metadata": {},
   "source": [
    "Correr o CSP"
   ]
  },
  {
   "cell_type": "code",
   "execution_count": null,
   "metadata": {},
   "outputs": [],
   "source": [
    "solutions = problem.getSolutions()"
   ]
  },
  {
   "cell_type": "markdown",
   "metadata": {},
   "source": [
    "Imprimir as soluções"
   ]
  },
  {
   "cell_type": "code",
   "execution_count": null,
   "metadata": {},
   "outputs": [],
   "source": [
    "if solutions:\n",
    "    for solution in solutions:\n",
    "        print(solution)\n",
    "    else:\n",
    "        print(\"No solution found.\")"
   ]
  }
 ],
 "metadata": {
  "language_info": {
   "name": "python"
  }
 },
 "nbformat": 4,
 "nbformat_minor": 2
}
