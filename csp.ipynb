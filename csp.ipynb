{
 "cells": [
  {
   "cell_type": "markdown",
   "metadata": {},
   "source": [
    "Formulação do problema"
   ]
  },
  {
   "cell_type": "markdown",
   "metadata": {},
   "source": [
    "\n",
    "Importar as bibliotecas necessárias"
   ]
  },
  {
   "cell_type": "code",
   "execution_count": null,
   "metadata": {},
   "outputs": [],
   "source": [
    "import ast\n",
    "from constraint import Problem, AllDifferentConstraint\n",
    "from dataclasses import dataclass\n",
    "from enum import Enum\n",
    "from itertools import combinations"
   ]
  },
  {
   "cell_type": "markdown",
   "metadata": {},
   "source": [
    "Criação das classes"
   ]
  },
  {
   "cell_type": "code",
   "execution_count": null,
   "metadata": {},
   "outputs": [],
   "source": [
    "@dataclass\n",
    "class Room:\n",
    "    id: int\n",
    "    oxygen: bool\n",
    "    telemetry: bool\n",
    "\n",
    "\n",
    "@dataclass\n",
    "class Bed:\n",
    "    id: int\n",
    "    room: Room\n",
    "\n",
    "    def __repr__(self) -> str:\n",
    "        return str(self.id)\n",
    "\n",
    "\n",
    "class Gender(Enum):\n",
    "    MALE = (\"MALE\",)\n",
    "    FEMALE = (\"FEMALE\",)\n",
    "    OTHER = \"OTHER\"\n",
    "\n",
    "\n",
    "@dataclass\n",
    "class Patient:\n",
    "    id: int\n",
    "    name: str\n",
    "    age: int\n",
    "    gender: Gender\n",
    "    admission_date: int\n",
    "    discharge_date: int\n",
    "    oxygen: bool\n",
    "    telemetry: bool"
   ]
  },
  {
   "cell_type": "markdown",
   "metadata": {},
   "source": [
    "Setup dos dados"
   ]
  },
  {
   "cell_type": "code",
   "execution_count": null,
   "metadata": {},
   "outputs": [],
   "source": [
    "problem = Problem()\n",
    "\n",
    "rooms = [\n",
    "    Room(1, True, False),\n",
    "    Room(2, True, True),\n",
    "    Room(3, True, False),\n",
    "    Room(3, True, True),\n",
    "]\n",
    "\n",
    "beds = [\n",
    "    Bed(1, rooms[0]),\n",
    "    Bed(2, rooms[0]),\n",
    "    Bed(3, rooms[1]),\n",
    "    Bed(4, rooms[1]),\n",
    "    Bed(5, rooms[2]),\n",
    "    Bed(6, rooms[2]),\n",
    "    Bed(7, rooms[3]),\n",
    "    Bed(8, rooms[3]),\n",
    "]\n",
    "\n",
    "patients = [\n",
    "    Patient(1, \"Patient1\", 98, Gender.MALE, 0, 0, False, False),\n",
    "    Patient(2, \"Patient2\", 82, Gender.MALE, 0, 5, True, True),\n",
    "    Patient(3, \"Patient3\", 43, Gender.MALE, 0, 1, False, False),\n",
    "    Patient(4, \"Patient4\", 88, Gender.MALE, 0, 4, False, False),\n",
    "    Patient(5, \"Patient5\", 20, Gender.FEMALE, 0, 3, False, True),\n",
    "    Patient(6, \"Patient6\", 65, Gender.FEMALE, 0, 1, False, False),\n",
    "    Patient(7, \"Patient7\", 33, Gender.FEMALE, 1, 7, True, False),\n",
    "    Patient(8, \"Patient8\", 86, Gender.MALE, 2, 3, False, False),\n",
    "    Patient(9, \"Patient9\", 22, Gender.FEMALE, 2, 5, False, True),\n",
    "    Patient(10, \"Patient10\", 70, Gender.FEMALE, 3, 10, True, False),\n",
    "    Patient(11, \"Patient11\", 42, Gender.MALE, 4, 10, True, True),\n",
    "    Patient(12, \"Patient12\", 3, Gender.FEMALE, 5, 11, False, False),\n",
    "    Patient(13, \"Patient13\", 14, Gender.FEMALE, 5, 12, False, True),\n",
    "    Patient(14, \"Patient14\", 78, Gender.MALE, 7, 13, False, False),\n",
    "    Patient(15, \"Patient15\", 29, Gender.FEMALE, 8, 9, True, False),\n",
    "    Patient(16, \"Patient16\", 61, Gender.FEMALE, 9, 15, False, False),\n",
    "    Patient(17, \"Patient17\", 56, Gender.FEMALE, 10, 17, False, True),\n",
    "    Patient(18, \"Patient18\", 106, Gender.FEMALE, 10, 14, True, False),\n",
    "    Patient(19, \"Patient19\", 4, Gender.MALE, 11, 17, True, False),\n",
    "    Patient(20, \"Patient20\", 52, Gender.FEMALE, 12, 19, True, True),\n",
    "]"
   ]
  },
  {
   "cell_type": "markdown",
   "metadata": {},
   "source": [
    "Adicionar as variaveis com o seu dominio de dias"
   ]
  },
  {
   "cell_type": "code",
   "execution_count": null,
   "metadata": {},
   "outputs": [],
   "source": [
    "for patient in patients:\n",
    "        days_for_patient = set(\n",
    "            range(patient.admission_date, patient.discharge_date + 1)\n",
    "        )\n",
    "        domain = [f\"bed_{bed}_days_{days_for_patient}\" for bed in beds]\n",
    "        problem.addVariable(f\"patient_{patient.id}\", domain)"
   ]
  },
  {
   "cell_type": "markdown",
   "metadata": {},
   "source": [
    "# Avalia para cada paciente se o numero de dias (set) interceta com outro paciente,\n",
    "# Se sim, a condição é falsa excepto se a cama for diferente"
   ]
  },
  {
   "cell_type": "code",
   "execution_count": null,
   "metadata": {},
   "outputs": [],
   "source": [
    "for variable, domain in problem._variables.items():\n",
    "    patient = variable.split(\"_\")[1]\n",
    "    patients_except_var = [p for p in problem._variables if p != variable]\n",
    "\n",
    "    def test(a, b):\n",
    "        bed_a = a.split(\"_\")[1]\n",
    "        bed_b = b.split(\"_\")[1]\n",
    "        set_a = ast.literal_eval(a.split(\"_\")[3])\n",
    "        set_b = ast.literal_eval(b.split(\"_\")[3])\n",
    "        return len(set_a & set_b) == 0 or bed_a != bed_b\n",
    "\n",
    "    for patient in patients_except_var:\n",
    "        problem.addConstraint(test, [variable, patient])"
   ]
  },
  {
   "cell_type": "markdown",
   "metadata": {},
   "source": [
    "# Adicionar constraint de oxigenio e telemetria"
   ]
  },
  {
   "cell_type": "code",
   "execution_count": null,
   "metadata": {},
   "outputs": [],
   "source": [
    "for variable, domain in problem._variables.items():\n",
    "    patient_id = int(variable.split(\"_\")[1])\n",
    "    patient = find_patients(patients, patient_id)\n",
    "\n",
    "    if patient.oxygen == True:\n",
    "\n",
    "        def test_oxygen(a):\n",
    "            bed_id = int(a.split(\"_\")[1])\n",
    "            bed = get_bed_by_id(beds, bed_id)\n",
    "            return bed.room.oxygen\n",
    "\n",
    "        problem.addConstraint(test_oxygen, [variable])\n",
    "\n",
    "    if patient.telemetry == True:\n",
    "\n",
    "        def test_telemetry(a):\n",
    "            bed_id = int(a.split(\"_\")[1])\n",
    "            bed = get_bed_by_id(beds, bed_id)\n",
    "            return bed.room.telemetry\n",
    "\n",
    "        problem.addConstraint(test_telemetry, [variable])"
   ]
  },
  {
   "cell_type": "markdown",
   "metadata": {},
   "source": [
    "Correr o CSP"
   ]
  },
  {
   "cell_type": "code",
   "execution_count": null,
   "metadata": {},
   "outputs": [],
   "source": [
    "solutions = problem.getSolutions()"
   ]
  },
  {
   "cell_type": "markdown",
   "metadata": {},
   "source": [
    "Possiveis soluções"
   ]
  },
  {
   "cell_type": "code",
   "execution_count": null,
   "metadata": {},
   "outputs": [],
   "source": [
    "if solutions:\n",
    "    for solution in solutions:\n",
    "        print(solution)\n",
    "    else:\n",
    "        print(\"No solution found.\")"
   ]
  }
 ],
 "metadata": {
  "language_info": {
   "name": "python"
  }
 },
 "nbformat": 4,
 "nbformat_minor": 2
}
